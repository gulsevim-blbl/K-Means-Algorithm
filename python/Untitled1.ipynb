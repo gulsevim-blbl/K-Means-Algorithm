{
 "cells": [
  {
   "cell_type": "code",
   "execution_count": null,
   "id": "a268dcc0-59dc-4b9e-8d63-7bb1c5b886a3",
   "metadata": {},
   "outputs": [],
   "source": [
    "import numpy as np\n",
    "from sklearn.cluster import KMeans\n",
    "import matplotlib.pyplot as plt\n",
    "\n",
    "# Veri seti\n",
    "gözlemler = np.array([4, 6, 5, 10, 11])\n",
    "değişken1 = np.array([4, 6, 5, 10, 11])\n",
    "değişken2 = np.array([2, 4, 1, 6, 8])\n",
    "\n",
    "# Veriyi düzenleme\n",
    "X = np.array(list(zip(değişken1, değişken2)))\n",
    "\n",
    "# K-means modelini oluşturma\n",
    "kmeans = KMeans(n_clusters=2)  # Küme sayısını isteğinize göre ayarlayabilirsiniz\n",
    "\n",
    "# Modeli eğitme\n",
    "kmeans.fit(X)\n",
    "\n",
    "# Merkezleri ve küme etiketlerini alıyoruz\n",
    "merkezler = kmeans.cluster_centers_\n",
    "küme_etiketleri = kmeans.labels_\n",
    "\n",
    "# Sonuçları yazdırma\n",
    "print(\"Küme Merkezleri:\")\n",
    "print(merkezler)\n",
    "print(\"\\nGözlemler ve Küme Etiketleri:\")\n",
    "for i in range(len(gözlemler)):\n",
    "    print(f\"Gözlem {gözlemler[i]} => Küme {küme_etiketleri[i]}\")\n",
    "\n",
    "# Sonuçları görselleştirme\n",
    "plt.scatter(değişken1, değişken2, c=küme_etiketleri, cmap='viridis')\n",
    "plt.scatter(merkezler[:, 0], merkezler[:, 1], marker='X', s=200, c='red')\n",
    "plt.title('K-means Kümeleme')\n",
    "plt.xlabel('Değişken 1')\n",
    "plt.ylabel('Değişken 2')\n",
    "plt.show()\n"
   ]
  },
  {
   "cell_type": "code",
   "execution_count": null,
   "id": "a95d309c-d452-44c9-8ad3-3e7bf1008fb8",
   "metadata": {},
   "outputs": [],
   "source": []
  },
  {
   "cell_type": "code",
   "execution_count": null,
   "id": "45323ae6-8803-4487-824f-274506f35a06",
   "metadata": {},
   "outputs": [],
   "source": []
  }
 ],
 "metadata": {
  "kernelspec": {
   "display_name": "Python 3 (ipykernel)",
   "language": "python",
   "name": "python3"
  },
  "language_info": {
   "codemirror_mode": {
    "name": "ipython",
    "version": 3
   },
   "file_extension": ".py",
   "mimetype": "text/x-python",
   "name": "python",
   "nbconvert_exporter": "python",
   "pygments_lexer": "ipython3",
   "version": "3.12.1"
  }
 },
 "nbformat": 4,
 "nbformat_minor": 5
}
